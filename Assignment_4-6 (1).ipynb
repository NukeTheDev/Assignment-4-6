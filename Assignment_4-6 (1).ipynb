{
 "cells": [
  {
   "cell_type": "markdown",
   "id": "d27363bf",
   "metadata": {},
   "source": [
    "# Assignment 4.1"
   ]
  },
  {
   "cell_type": "code",
   "execution_count": 1,
   "id": "48d27eea",
   "metadata": {},
   "outputs": [
    {
     "name": "stdout",
     "output_type": "stream",
     "text": [
      "too low\n"
     ]
    }
   ],
   "source": [
    "# Choose a number between 1 and 10 and assign it to the variable secret.\n",
    "secret = 7\n",
    "\n",
    "# select another number between 1 and 10 and assign it to the variable guess.\n",
    "guess = 3\n",
    "\n",
    "# Next, write the conditional tests (if, else, and elif) to print the string 'too low' if guess is less than secret,\n",
    "# 'too high' if greater than secret, and 'just right' if equal to secret.\n",
    "if guess < secret:\n",
    "    print('too low')\n",
    "elif guess > secret:\n",
    "    print('too high')\n",
    "else:\n",
    "    print('just right')"
   ]
  },
  {
   "cell_type": "markdown",
   "id": "cbdaf136",
   "metadata": {},
   "source": [
    "# Assignment 4.2"
   ]
  },
  {
   "cell_type": "code",
   "execution_count": 2,
   "id": "9c1108a2",
   "metadata": {},
   "outputs": [
    {
     "name": "stdout",
     "output_type": "stream",
     "text": [
      "cherry\n"
     ]
    }
   ],
   "source": [
    "# Assign True or False to the variables small and green.\n",
    "small = True\n",
    "green = False\n",
    "\n",
    "# Write some if/else statements to print which of these matches those choices: cherry, pea, watermelon, pumpkin.\n",
    "if small and green:\n",
    "    print('pea')\n",
    "elif small and not green:\n",
    "    print('cherry')\n",
    "elif not small and green:\n",
    "    print('watermelon')\n",
    "else:\n",
    "    print('pumpkin')"
   ]
  },
  {
   "cell_type": "markdown",
   "id": "68d9a456",
   "metadata": {},
   "source": [
    "# Assignment 6.1"
   ]
  },
  {
   "cell_type": "code",
   "execution_count": 3,
   "id": "d81a306e",
   "metadata": {},
   "outputs": [
    {
     "name": "stdout",
     "output_type": "stream",
     "text": [
      "3\n",
      "2\n",
      "1\n",
      "0\n"
     ]
    }
   ],
   "source": [
    "# Use a for loop to print the values of the list [3, 2, 1, 0].\n",
    "for i in [3, 2, 1, 0]:\n",
    "    print(i)"
   ]
  },
  {
   "cell_type": "markdown",
   "id": "b64ada0a",
   "metadata": {},
   "source": [
    "# Assignment 6.2"
   ]
  },
  {
   "cell_type": "code",
   "execution_count": 5,
   "id": "449972d1",
   "metadata": {},
   "outputs": [
    {
     "name": "stdout",
     "output_type": "stream",
     "text": [
      "too low\n",
      "too low\n",
      "too low\n",
      "too low\n",
      "too low\n",
      "too low\n",
      "found it!\n"
     ]
    }
   ],
   "source": [
    "# Assign the value 7 to the variable guess_me, and the value 1 to the variable number.\n",
    "guess_me = 7\n",
    "number = 1\n",
    "\n",
    "# Write a while loop that compares number with guess_me.\n",
    "while number <= guess_me:\n",
    "    # Print 'too low' if number is less than guess me.\n",
    "    if number < guess_me:\n",
    "        print('too low')\n",
    "    # If number equals guess_me, print 'found it!' and then exit the loop.\n",
    "    elif number == guess_me:\n",
    "        print('found it!')\n",
    "        break\n",
    "    # If number is greater than guess_me, print 'oops' and then exit the loop.\n",
    "    else:\n",
    "        print('oops')\n",
    "        break\n",
    "    # Increment number at the end of the loop.\n",
    "    number += 1"
   ]
  },
  {
   "cell_type": "markdown",
   "id": "26048653",
   "metadata": {},
   "source": [
    "# Assignment 6.3"
   ]
  },
  {
   "cell_type": "code",
   "execution_count": 6,
   "id": "dc0fb4d3",
   "metadata": {},
   "outputs": [
    {
     "name": "stdout",
     "output_type": "stream",
     "text": [
      "too low\n",
      "too low\n",
      "too low\n",
      "too low\n",
      "too low\n",
      "found it!\n"
     ]
    }
   ],
   "source": [
    "# Assign the value 5 to the variable guess_me.\n",
    "guess_me = 5\n",
    "\n",
    "# Use a for loop to iterate a variable called number over range(10).\n",
    "for number in range(10):\n",
    "    # If number is less than guess_me, print 'too low'.\n",
    "    if number < guess_me:\n",
    "        print('too low')\n",
    "    # If it equals guess_me, print found it! and then break out of the for loop.\n",
    "    elif number == guess_me:\n",
    "        print('found it!')\n",
    "        break\n",
    "    # If number is greater than guess_me, print 'oops' and then exit the loop.\n",
    "    else:\n",
    "        print('oops')\n",
    "        break\n"
   ]
  }
 ],
 "metadata": {
  "kernelspec": {
   "display_name": "Python 3 (ipykernel)",
   "language": "python",
   "name": "python3"
  },
  "language_info": {
   "codemirror_mode": {
    "name": "ipython",
    "version": 3
   },
   "file_extension": ".py",
   "mimetype": "text/x-python",
   "name": "python",
   "nbconvert_exporter": "python",
   "pygments_lexer": "ipython3",
   "version": "3.9.13"
  }
 },
 "nbformat": 4,
 "nbformat_minor": 5
}
